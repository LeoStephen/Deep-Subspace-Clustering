{
 "cells": [
  {
   "cell_type": "code",
   "execution_count": null,
   "metadata": {
    "collapsed": false
   },
   "outputs": [
    {
     "name": "stdout",
     "output_type": "stream",
     "text": [
      "Calculating C ...\n"
     ]
    }
   ],
   "source": [
    "from sp import getSparcityPrior\n",
    "from dsc import DeepSubspaceClustering\n",
    "import scipy.io as sio\n",
    "\n",
    "ourdata = sio.loadmat(\"/Users/xupeng.tong/Documents/Data/OriginalData/B_mean_2labels.mat\")\n",
    "\n",
    "inputX = ourdata['X']\n",
    "# inputX = normalize(inputX, axis=0)\n",
    "inputY = ourdata['Y'][0,:]\n",
    "columnNames = ourdata['columnNames']\n",
    "\n",
    "# getSparcityPrior(inputX, lambda1=0.01, lambda2=10)"
   ]
  },
  {
   "cell_type": "code",
   "execution_count": 2,
   "metadata": {
    "collapsed": false
   },
   "outputs": [],
   "source": [
    "import numpy as np\n",
    "\n",
    "a = np.random.rand(5,5)\n",
    "b = np.delete(a, (2), axis=1)"
   ]
  },
  {
   "cell_type": "code",
   "execution_count": 3,
   "metadata": {
    "collapsed": false
   },
   "outputs": [
    {
     "name": "stdout",
     "output_type": "stream",
     "text": [
      "0\n",
      "1\n",
      "2\n",
      "3\n",
      "4\n"
     ]
    }
   ],
   "source": [
    "from sp_cvx import sparseCoefRecovery\n",
    "\n",
    "C = sparseCoefRecovery(a, 'Lasso')"
   ]
  },
  {
   "cell_type": "code",
   "execution_count": 4,
   "metadata": {
    "collapsed": false
   },
   "outputs": [
    {
     "data": {
      "text/plain": [
       "array([[  0.00000000e+00,   0.00000000e+00,   3.72212290e-11,\n",
       "          4.88737273e-11,   3.64966621e-11],\n",
       "       [  1.14815126e-11,   0.00000000e+00,   0.00000000e+00,\n",
       "          8.83158472e-12,   1.47458355e-11],\n",
       "       [  4.60436760e-11,   3.30894995e-13,   0.00000000e+00,\n",
       "          0.00000000e+00,   3.87883209e-11],\n",
       "       [  4.22529810e-11,   1.61241019e-13,   2.20838089e-11,\n",
       "          0.00000000e+00,   0.00000000e+00],\n",
       "       [  4.08004910e-11,   3.39243970e-13,   3.49147427e-11,\n",
       "          4.43613651e-11,   0.00000000e+00]])"
      ]
     },
     "execution_count": 4,
     "metadata": {},
     "output_type": "execute_result"
    }
   ],
   "source": [
    "C"
   ]
  },
  {
   "cell_type": "code",
   "execution_count": 5,
   "metadata": {
    "collapsed": false
   },
   "outputs": [],
   "source": [
    "# C = getSparcityPrior(inputX, lambda1=0.01, lambda2=0.1, epochs=100, print_step=1)"
   ]
  }
 ],
 "metadata": {
  "kernelspec": {
   "display_name": "Python 2",
   "language": "python",
   "name": "python2"
  },
  "language_info": {
   "codemirror_mode": {
    "name": "ipython",
    "version": 2
   },
   "file_extension": ".py",
   "mimetype": "text/x-python",
   "name": "python",
   "nbconvert_exporter": "python",
   "pygments_lexer": "ipython2",
   "version": "2.7.12"
  }
 },
 "nbformat": 4,
 "nbformat_minor": 0
}
