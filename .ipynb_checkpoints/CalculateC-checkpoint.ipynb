{
 "cells": [
  {
   "cell_type": "code",
   "execution_count": null,
   "metadata": {
    "collapsed": false
   },
   "outputs": [],
   "source": [
    "import scipy.io as sio\n",
    "\n",
    "# ourdata = sio.loadmat(\"/Users/xupeng.tong/Documents/Data/OriginalData/B_mean_2labels.mat\")\n",
    "ourdata = sio.loadmat(\"/Volumes/TONY/Regeneron/Data/OriginalData/B_mean_2labels.mat\")\n",
    "\n",
    "inputX = ourdata['X']\n",
    "# inputX = normalize(inputX, axis=0)\n",
    "inputY = ourdata['Y'][0,:]\n",
    "columnNames = ourdata['columnNames']"
   ]
  },
  {
   "cell_type": "code",
   "execution_count": null,
   "metadata": {
    "collapsed": false
   },
   "outputs": [],
   "source": [
    "a = np.random.choice(len(c_init), 100, replace=False)"
   ]
  },
  {
   "cell_type": "code",
   "execution_count": null,
   "metadata": {
    "collapsed": false
   },
   "outputs": [],
   "source": []
  },
  {
   "cell_type": "code",
   "execution_count": null,
   "metadata": {
    "collapsed": false
   },
   "outputs": [],
   "source": [
    "c_init[[2,2],[1,2]].shape"
   ]
  },
  {
   "cell_type": "code",
   "execution_count": null,
   "metadata": {
    "collapsed": false
   },
   "outputs": [],
   "source": [
    "from dsc import DeepSubspaceClustering\n",
    "from sp import getSparcityPrior\n",
    "import numpy as np\n",
    "\n",
    "c_init = np.full((inputX.shape[1],inputX.shape[1]), 0.1, dtype=np.float32)\n",
    "np.fill_diagonal(c_init, 0)\n",
    "\n",
    "C = getSparcityPrior(inputX, C_init=c_init, optimizer='Adam', lambda1=0.01, lambda2=50, epochs=500, learning_rate=0.1,print_step=1)"
   ]
  },
  {
   "cell_type": "code",
   "execution_count": 1,
   "metadata": {
    "collapsed": false
   },
   "outputs": [],
   "source": [
    "from dsc import DeepSubspaceClustering\n",
    "from sp import getSparcityPrior\n",
    "import tensorflow as tf\n",
    "import numpy as np\n",
    "\n",
    "test = np.random.rand(300,100)\n",
    "c_init = np.full((300,300), 0.05, dtype=np.float32)\n",
    "# c_init = np.random.uniform(-0.1, 0.1, (20,20)).astype(np.float32)\n",
    "np.fill_diagonal(c_init, 0)\n",
    "\n",
    "# keke = getSparcityPrior(test, C_init=None,optimizer='Adam', lambda1=0.001, lambda2=1000, epochs=5000, learning_rate=0.1,print_step=100)"
   ]
  },
  {
   "cell_type": "code",
   "execution_count": 2,
   "metadata": {
    "collapsed": false
   },
   "outputs": [],
   "source": [
    "dsc = DeepSubspaceClustering(test, hidden_dims=[100], C=c_init, learning_rate=0.001)"
   ]
  },
  {
   "cell_type": "code",
   "execution_count": 4,
   "metadata": {
    "collapsed": false
   },
   "outputs": [],
   "source": [
    "dsc.train(batch_size=100, epochs=100000, print_step=100)"
   ]
  },
  {
   "cell_type": "code",
   "execution_count": null,
   "metadata": {
    "collapsed": false
   },
   "outputs": [],
   "source": [
    "from sda import StackedDenoisingAutoencoder\n",
    "\n",
    "sda = StackedDenoisingAutoencoder(dims=[100],epochs=[1000],activations=['tanh'])"
   ]
  }
 ],
 "metadata": {
  "kernelspec": {
   "display_name": "Python 2",
   "language": "python",
   "name": "python2"
  },
  "language_info": {
   "codemirror_mode": {
    "name": "ipython",
    "version": 2
   },
   "file_extension": ".py",
   "mimetype": "text/x-python",
   "name": "python",
   "nbconvert_exporter": "python",
   "pygments_lexer": "ipython2",
   "version": "2.7.11"
  }
 },
 "nbformat": 4,
 "nbformat_minor": 0
}
