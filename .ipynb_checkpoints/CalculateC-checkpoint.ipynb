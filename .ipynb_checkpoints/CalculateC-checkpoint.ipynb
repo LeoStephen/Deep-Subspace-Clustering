{
 "cells": [
  {
   "cell_type": "code",
   "execution_count": null,
   "metadata": {
    "collapsed": false
   },
   "outputs": [],
   "source": [
    "from sp import getSparcityPrior\n",
    "from dsc import DeepSubspaceClustering\n",
    "import scipy.io as sio\n",
    "\n",
    "ourdata = sio.loadmat(\"/Users/xupeng.tong/Documents/Data/OriginalData/B_mean_2labels.mat\")\n",
    "\n",
    "inputX = ourdata['X']\n",
    "# inputX = normalize(inputX, axis=0)\n",
    "inputY = ourdata['Y'][0,:]\n",
    "columnNames = ourdata['columnNames']\n",
    "\n",
    "# getSparcityPrior(inputX, lambda1=0.01, lambda2=10)"
   ]
  },
  {
   "cell_type": "code",
   "execution_count": null,
   "metadata": {
    "collapsed": false
   },
   "outputs": [],
   "source": [
    "import numpy as np\n",
    "\n",
    "data = np.random.rand(20,10)\n",
    "# 20 samples 10 features"
   ]
  },
  {
   "cell_type": "code",
   "execution_count": null,
   "metadata": {
    "collapsed": false
   },
   "outputs": [],
   "source": [
    "from sp_cvx import sparseCoefRecovery\n",
    "from solveHomotopy import SolveHomotopy\n",
    "from sklearn.decomposition import sparse_encode\n",
    "from sklearn.linear_model import LassoLars\n",
    "from sklearn.linear_model import Lars\n",
    "\n",
    "# C = sparse_encode(data, data)\n",
    "\n",
    "lars = Lars()\n",
    "\n",
    "inputX_T = inputX.T\n",
    "\n",
    "lars.fit(np.delete(inputX_T,(1),axis=1), inputX_T[:,1])\n",
    "\n",
    "# if i > 1:\n",
    "#         C[:i-1,i] = c_val[:i-1]\n",
    "#     if i < n:\n",
    "#         C[i+1:n,i] = c_val[i:n]\n",
    "#     C[i,i] = 0\n",
    "\n",
    "print lars.coef_\n",
    "# C = sparseCoefRecovery(inputX.T, 'L1Perfect')\n",
    "\n",
    "STOPPING_TIME = -2 ;\n",
    "STOPPING_GROUND_TRUTH = -1;\n",
    "STOPPING_DUALITY_GAP = 1;\n",
    "STOPPING_SPARSE_SUPPORT = 2;\n",
    "STOPPING_OBJECTIVE_VALUE = 3;\n",
    "STOPPING_SUBGRADIENT = 4;\n",
    "\n",
    "maxTime = 8;\n",
    "\n",
    "C = np.zeros(10,10)\n",
    "for j in xrange(data.shape[1]):\n",
    "    x = np.zeros(size(data,1)-1, 1)\n",
    "    if j == 0:\n",
    "tmp = SolveHomotopy(data[:,j], data[:, j+1:], 'stoppingCriterion', STOPPING_TIME, 'groundTruth', x, 'maxtime', maxTime, 'maxiteration', 1e6)\n",
    "#         C[:,j] = [0; tmp]\n",
    "    else:\n",
    "#         tmp = sparsecode_func(data(:,j), [data(:, :j-1) data(:,j+1:end)]) \n",
    "#         C(:,j) = tmp[1:j-1]; 0; tmp[j:]\n",
    "\n",
    "# SolveHomotopy()"
   ]
  },
  {
   "cell_type": "code",
   "execution_count": 3,
   "metadata": {
    "collapsed": false
   },
   "outputs": [
    {
     "ename": "ValueError",
     "evalue": "operands could not be broadcast together with shapes (20,8) (8,1) ",
     "output_type": "error",
     "traceback": [
      "\u001b[0;31m---------------------------------------------------------------------------\u001b[0m",
      "\u001b[0;31mValueError\u001b[0m                                Traceback (most recent call last)",
      "\u001b[0;32m<ipython-input-3-45dbec4498a0>\u001b[0m in \u001b[0;36m<module>\u001b[0;34m()\u001b[0m\n\u001b[1;32m     16\u001b[0m \u001b[0;34m\u001b[0m\u001b[0m\n\u001b[1;32m     17\u001b[0m \u001b[0mx\u001b[0m \u001b[0;34m=\u001b[0m \u001b[0mnp\u001b[0m\u001b[0;34m.\u001b[0m\u001b[0mzeros\u001b[0m\u001b[0;34m(\u001b[0m\u001b[0;34m(\u001b[0m\u001b[0mA\u001b[0m\u001b[0;34m.\u001b[0m\u001b[0mshape\u001b[0m\u001b[0;34m[\u001b[0m\u001b[0;36m1\u001b[0m\u001b[0;34m]\u001b[0m\u001b[0;34m-\u001b[0m\u001b[0;36m1\u001b[0m\u001b[0;34m,\u001b[0m \u001b[0;36m1\u001b[0m\u001b[0;34m)\u001b[0m\u001b[0;34m)\u001b[0m\u001b[0;34m\u001b[0m\u001b[0m\n\u001b[0;32m---> 18\u001b[0;31m \u001b[0mSolveHomotopy\u001b[0m\u001b[0;34m(\u001b[0m\u001b[0mA\u001b[0m\u001b[0;34m,\u001b[0m \u001b[0mb\u001b[0m\u001b[0;34m,\u001b[0m \u001b[0;34m'stoppingCriterion'\u001b[0m\u001b[0;34m,\u001b[0m \u001b[0mSTOPPING_TIME\u001b[0m\u001b[0;34m,\u001b[0m \u001b[0;34m'groundTruth'\u001b[0m\u001b[0;34m,\u001b[0m \u001b[0mx\u001b[0m\u001b[0;34m,\u001b[0m \u001b[0;34m'maxtime'\u001b[0m\u001b[0;34m,\u001b[0m \u001b[0mmaxTime\u001b[0m\u001b[0;34m,\u001b[0m \u001b[0;34m'maxiteration'\u001b[0m\u001b[0;34m,\u001b[0m \u001b[0;36m1e6\u001b[0m\u001b[0;34m)\u001b[0m\u001b[0;34m\u001b[0m\u001b[0m\n\u001b[0m",
      "\u001b[0;32m/Users/xupeng.tong/Documents/Codes/code_files/Clustering/Deep-Subspace-Clustering/smop/homo.py\u001b[0m in \u001b[0;36mSolveHomotopy\u001b[0;34m(A, b, *args, **kwargs)\u001b[0m\n\u001b[1;32m     82\u001b[0m         \u001b[0mgamma_xk\u001b[0m\u001b[0;34m=\u001b[0m\u001b[0mfind\u001b[0m\u001b[0;34m(\u001b[0m\u001b[0mabs_\u001b[0m\u001b[0;34m(\u001b[0m\u001b[0mxk_1\u001b[0m\u001b[0;34m)\u001b[0m \u001b[0;34m>\u001b[0m \u001b[0meps\u001b[0m \u001b[0;34m*\u001b[0m \u001b[0;36m10\u001b[0m\u001b[0;34m)\u001b[0m\u001b[0;34m\u001b[0m\u001b[0m\n\u001b[1;32m     83\u001b[0m         \u001b[0mnz_x\u001b[0m\u001b[0;34m[\u001b[0m\u001b[0mgamma_xk\u001b[0m\u001b[0;34m]\u001b[0m\u001b[0;34m=\u001b[0m\u001b[0;36m1\u001b[0m\u001b[0;34m\u001b[0m\u001b[0m\n\u001b[0;32m---> 84\u001b[0;31m     \u001b[0mf\u001b[0m\u001b[0;34m=\u001b[0m\u001b[0mepsilon\u001b[0m \u001b[0;34m*\u001b[0m \u001b[0mnorm\u001b[0m\u001b[0;34m(\u001b[0m\u001b[0mxk_1\u001b[0m\u001b[0;34m,\u001b[0m\u001b[0;36m1\u001b[0m\u001b[0;34m)\u001b[0m \u001b[0;34m+\u001b[0m \u001b[0;36m1\u001b[0m \u001b[0;34m/\u001b[0m \u001b[0;36m2\u001b[0m \u001b[0;34m*\u001b[0m \u001b[0mnorm\u001b[0m\u001b[0;34m(\u001b[0m\u001b[0mb\u001b[0m \u001b[0;34m-\u001b[0m \u001b[0mA\u001b[0m \u001b[0;34m*\u001b[0m \u001b[0mxk_1\u001b[0m\u001b[0;34m)\u001b[0m \u001b[0;34m**\u001b[0m \u001b[0;36m2\u001b[0m\u001b[0;34m\u001b[0m\u001b[0m\n\u001b[0m\u001b[1;32m     85\u001b[0m     \u001b[0mz_x\u001b[0m\u001b[0;34m[\u001b[0m\u001b[0mgamma_xk\u001b[0m\u001b[0;34m]\u001b[0m\u001b[0;34m=\u001b[0m\u001b[0;34m-\u001b[0m \u001b[0msign\u001b[0m\u001b[0;34m(\u001b[0m\u001b[0mPrimal_constrk\u001b[0m\u001b[0;34m[\u001b[0m\u001b[0mgamma_xk\u001b[0m\u001b[0;34m]\u001b[0m\u001b[0;34m)\u001b[0m\u001b[0;34m\u001b[0m\u001b[0m\n\u001b[1;32m     86\u001b[0m     \u001b[0mz_xk\u001b[0m\u001b[0;34m=\u001b[0m\u001b[0mcopy\u001b[0m\u001b[0;34m(\u001b[0m\u001b[0mz_x\u001b[0m\u001b[0;34m)\u001b[0m\u001b[0;34m\u001b[0m\u001b[0m\n",
      "\u001b[0;31mValueError\u001b[0m: operands could not be broadcast together with shapes (20,8) (8,1) "
     ]
    }
   ],
   "source": [
    "import numpy as np\n",
    "from smop.homo import SolveHomotopy\n",
    "\n",
    "STOPPING_TIME = -2 ;\n",
    "STOPPING_GROUND_TRUTH = -1;\n",
    "STOPPING_DUALITY_GAP = 1;\n",
    "STOPPING_SPARSE_SUPPORT = 2;\n",
    "STOPPING_OBJECTIVE_VALUE = 3;\n",
    "STOPPING_SUBGRADIENT = 4;\n",
    "\n",
    "maxTime = 8;\n",
    "\n",
    "data = np.random.rand(20,10)\n",
    "\n",
    "A, b = data[:, 1+1:], data[:,1]\n",
    "\n",
    "x = np.zeros((data.shape[1]-1, 1))\n",
    "SolveHomotopy(A, b, 'stoppingCriterion', STOPPING_TIME, 'groundTruth', x, 'maxtime', maxTime, 'maxiteration', 1e6)"
   ]
  },
  {
   "cell_type": "code",
   "execution_count": 4,
   "metadata": {
    "collapsed": false
   },
   "outputs": [
    {
     "ename": "ValueError",
     "evalue": "operands could not be broadcast together with shapes (20,8) (7,1) ",
     "output_type": "error",
     "traceback": [
      "\u001b[0;31m---------------------------------------------------------------------------\u001b[0m",
      "\u001b[0;31mValueError\u001b[0m                                Traceback (most recent call last)",
      "\u001b[0;32m<ipython-input-4-36dac96da8d1>\u001b[0m in \u001b[0;36m<module>\u001b[0;34m()\u001b[0m\n\u001b[0;32m----> 1\u001b[0;31m \u001b[0mA\u001b[0m\u001b[0;34m*\u001b[0m\u001b[0mx\u001b[0m\u001b[0;34m\u001b[0m\u001b[0m\n\u001b[0m",
      "\u001b[0;31mValueError\u001b[0m: operands could not be broadcast together with shapes (20,8) (7,1) "
     ]
    }
   ],
   "source": [
    "A*x"
   ]
  },
  {
   "cell_type": "code",
   "execution_count": null,
   "metadata": {
    "collapsed": false
   },
   "outputs": [],
   "source": [
    "print A.T.shape"
   ]
  },
  {
   "cell_type": "code",
   "execution_count": null,
   "metadata": {
    "collapsed": false
   },
   "outputs": [],
   "source": [
    "(A.T*b).shape"
   ]
  },
  {
   "cell_type": "code",
   "execution_count": null,
   "metadata": {
    "collapsed": false
   },
   "outputs": [],
   "source": [
    "data.shape[1]-1"
   ]
  },
  {
   "cell_type": "code",
   "execution_count": null,
   "metadata": {
    "collapsed": false
   },
   "outputs": [],
   "source": [
    "np.delete(data,(1),axis=0).shape"
   ]
  },
  {
   "cell_type": "code",
   "execution_count": null,
   "metadata": {
    "collapsed": false
   },
   "outputs": [],
   "source": [
    "np.delete(data, (1), axis=1).shape"
   ]
  },
  {
   "cell_type": "code",
   "execution_count": null,
   "metadata": {
    "collapsed": false
   },
   "outputs": [],
   "source": [
    "from mlabwrap import mlab"
   ]
  },
  {
   "cell_type": "code",
   "execution_count": null,
   "metadata": {
    "collapsed": false
   },
   "outputs": [],
   "source": [
    "# C = getSparcityPrior(inputX, lambda1=0.01, lambda2=0.1, epochs=100, print_step=1)"
   ]
  }
 ],
 "metadata": {
  "kernelspec": {
   "display_name": "Python 2",
   "language": "python",
   "name": "python2"
  },
  "language_info": {
   "codemirror_mode": {
    "name": "ipython",
    "version": 2
   },
   "file_extension": ".py",
   "mimetype": "text/x-python",
   "name": "python",
   "nbconvert_exporter": "python",
   "pygments_lexer": "ipython2",
   "version": "2.7.12"
  }
 },
 "nbformat": 4,
 "nbformat_minor": 0
}
