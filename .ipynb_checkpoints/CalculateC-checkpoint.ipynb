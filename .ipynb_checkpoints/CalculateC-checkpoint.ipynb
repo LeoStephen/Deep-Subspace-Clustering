{
 "cells": [
  {
   "cell_type": "code",
   "execution_count": null,
   "metadata": {
    "collapsed": false
   },
   "outputs": [],
   "source": [
    "import tensorflow as tf\n",
    "import numpy as np\n",
    "from helpers import optimize\n",
    "from __future__ import print_function\n",
    "\n",
    "def getSparcityPrior(inputX, lambda1=0.01, lambda2=0.01, optimizer='Adam', epochs=10000, learning_rate=0.1, print_step=50):\n",
    "    tf.reset_default_graph()\n",
    "    \n",
    "    n_feat, n_sample = inputX.shape\n",
    "\n",
    "    X = tf.placeholder(dtype=tf.float32, shape=[n_feat, n_sample], name='X')\n",
    "    C = tf.Variable(tf.random_uniform([n_sample, n_sample], -1, 1), name='C')\n",
    "\n",
    "    loss = X - tf.matmul(X, C)\n",
    "    loss = tf.reduce_sum(tf.square(loss))\n",
    "\n",
    "    # Create sparseness in C\n",
    "    reg_lossC = tf.reduce_sum(abs(C))  # L1 loss for C\n",
    "\n",
    "    # Force the entries in the diagonal of C to be zero\n",
    "    reg_lossD = tf.trace(tf.square(C))\n",
    "\n",
    "    cost = loss + lambda1 * reg_lossC + lambda2 * reg_lossD\n",
    "    optimizer = optimize(cost, learning_rate, optimizer)\n",
    "    \n",
    "    # Optimizing the function\n",
    "    with tf.Session() as sess:\n",
    "        sess.run(tf.initialize_all_variables())\n",
    "        for i in xrange(epochs):\n",
    "            sess.run(optimizer, feed_dict={X: inputX})\n",
    "            loss = sess.run(cost, feed_dict={X: inputX})\n",
    "            if i % print_step == 0:\n",
    "                print('epoch {0}: global loss = {1}'.format(i, loss))\n",
    "            C_val = sess.run(C)\n",
    "        \n",
    "        return C_val"
   ]
  },
  {
   "cell_type": "code",
   "execution_count": 1,
   "metadata": {
    "collapsed": false
   },
   "outputs": [],
   "source": [
    "import scipy.io as sio\n",
    "\n",
    "ourdata = sio.loadmat(\"/Users/xupeng.tong/Documents/Data/OriginalData/B_mean_2labels.mat\")\n",
    "\n",
    "inputX = ourdata['X']\n",
    "# inputX = normalize(inputX, axis=0)\n",
    "inputY = ourdata['Y'][0,:]\n",
    "columnNames = ourdata['columnNames']"
   ]
  },
  {
   "cell_type": "code",
   "execution_count": null,
   "metadata": {
    "collapsed": false
   },
   "outputs": [
    {
     "name": "stdout",
     "output_type": "stream",
     "text": [
      "epoch 0: global loss = 45751296000.0\n"
     ]
    }
   ],
   "source": [
    "from dsc import DeepSubspaceClustering\n",
    "\n",
    "dsc = DeepSubspaceClustering(inputX)\n",
    "dsc.train()"
   ]
  }
 ],
 "metadata": {
  "kernelspec": {
   "display_name": "Python 2",
   "language": "python",
   "name": "python2"
  },
  "language_info": {
   "codemirror_mode": {
    "name": "ipython",
    "version": 2
   },
   "file_extension": ".py",
   "mimetype": "text/x-python",
   "name": "python",
   "nbconvert_exporter": "python",
   "pygments_lexer": "ipython2",
   "version": "2.7.12"
  }
 },
 "nbformat": 4,
 "nbformat_minor": 0
}
